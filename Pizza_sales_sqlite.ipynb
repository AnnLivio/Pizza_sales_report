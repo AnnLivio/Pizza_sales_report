{
  "nbformat": 4,
  "nbformat_minor": 0,
  "metadata": {
    "colab": {
      "provenance": [],
      "mount_file_id": "1tjWLmkPKQXGqwOABlAA7jRqCzoouPVrB",
      "authorship_tag": "ABX9TyPDkzkRne9guop2NtH5Kd2n",
      "include_colab_link": true
    },
    "kernelspec": {
      "name": "python3",
      "display_name": "Python 3"
    },
    "language_info": {
      "name": "python"
    }
  },
  "cells": [
    {
      "cell_type": "markdown",
      "metadata": {
        "id": "view-in-github",
        "colab_type": "text"
      },
      "source": [
        "<a href=\"https://colab.research.google.com/github/AnnLivio/powerbi/blob/main/Pizza_sales_sqlite.ipynb\" target=\"_parent\"><img src=\"https://colab.research.google.com/assets/colab-badge.svg\" alt=\"Open In Colab\"/></a>"
      ]
    },
    {
      "cell_type": "markdown",
      "source": [
        "# We ♥ Pizza\n",
        "## Pizza Sales Analysis 🍕\n",
        "\n",
        "### **Orders** Table\n",
        "\n",
        "|Field|Description|\n",
        "|---|---|\n",
        "|order\\_id|Unique identifier|\n",
        "|date|Date the order was placed|\n",
        "|time|Time the order was placed|\n",
        "\n",
        "\n",
        "---\n",
        "\n",
        "### **Order details** Table\n",
        "\n",
        "* **order\\_details\\_id:** Unique identifier for each pizza\n",
        "* **order\\_id:** Foreign key that ties the details in each order to the order itself\n",
        "* **pizza\\_id:** Foreign key that ties the pizza ordered to its details, like size and price\n",
        "* **quantity:** Quantity ordered for each pizza of the same type and size\n",
        "\n",
        "---\n",
        "\n",
        "### **Pizza** Table\n",
        "* **pizza\\_id:** Unique identifier for each pizza \\(constituted by its type and size\\)\n",
        "* **pizza\\_type\\_id:** Foreign key that ties each pizza to its broader pizza type\n",
        "* **size:** Size of the pizza \\(Small, Medium, Large, X Large, or XX Large\\)\n",
        "* **price:** Price of the pizza in USD\n",
        "\n",
        "\n",
        "---\n",
        "\n",
        "### **Pizza_type** Table\n",
        "\n",
        "* **pizza_type_id**: Unique identifier for each pizza type\n",
        "* **name:** Name of the pizza as shown in the menu\n",
        "* **category:** Category in the menu (Classic, Chicken, Supreme, or Veggie)\n",
        "* **ingredients:** Comma-delimited ingredients as shown in the menu"
      ],
      "metadata": {
        "id": "wSWzr_d4gneB"
      }
    },
    {
      "cell_type": "markdown",
      "source": [
        "## Import libraries"
      ],
      "metadata": {
        "id": "MrSMjISnqKJC"
      }
    },
    {
      "cell_type": "code",
      "execution_count": 32,
      "metadata": {
        "id": "qqZuUPtggi4m"
      },
      "outputs": [],
      "source": [
        "# Import libraries and packages\n",
        "import pandas as pd\n",
        "import sqlite3"
      ]
    },
    {
      "cell_type": "markdown",
      "source": [
        "## Create a database, connection and cursor"
      ],
      "metadata": {
        "id": "ALrVcPtIE3ww"
      }
    },
    {
      "cell_type": "code",
      "source": [
        "con = sqlite3.connect('pizzasales.db')\n",
        "cur = con.cursor()"
      ],
      "metadata": {
        "id": "l_Fqhrh5E3e5"
      },
      "execution_count": 33,
      "outputs": []
    },
    {
      "cell_type": "code",
      "source": [
        "%load_ext sql"
      ],
      "metadata": {
        "id": "Ixn43Av5FWbW",
        "colab": {
          "base_uri": "https://localhost:8080/"
        },
        "outputId": "1f5192d8-7b8e-4b29-dafd-cf5a43429f7d"
      },
      "execution_count": 50,
      "outputs": [
        {
          "output_type": "stream",
          "name": "stdout",
          "text": [
            "The sql extension is already loaded. To reload it, use:\n",
            "  %reload_ext sql\n"
          ]
        }
      ]
    },
    {
      "cell_type": "code",
      "source": [
        "%sql sqlite:///pizzasales.db"
      ],
      "metadata": {
        "id": "gpXPuCXIHSP3"
      },
      "execution_count": 35,
      "outputs": []
    },
    {
      "cell_type": "code",
      "source": [
        "# My salvation!!!\n",
        "%config SqlMagic.style = '_DEPRECATED_DEFAULT'"
      ],
      "metadata": {
        "id": "KMSmGwFHb163"
      },
      "execution_count": 39,
      "outputs": []
    },
    {
      "cell_type": "markdown",
      "source": [
        "## Create tables"
      ],
      "metadata": {
        "id": "36osBGnBfr2h"
      }
    },
    {
      "cell_type": "code",
      "source": [
        "table_list = ['orders', 'order_details', 'pizzas', 'pizza_types']\n",
        "\n",
        "for table in table_list:\n",
        "  path = f\"/content/drive/MyDrive/Data Analysis/Simple_Projects/pizza_sales_data/{table}.csv\"\n",
        "  df = pd.read_csv(path, encoding=\"latin-1\")\n",
        "  df.to_sql(table, con, if_exists='replace', index=False, method=None)\n",
        "  print(table)\n"
      ],
      "metadata": {
        "colab": {
          "base_uri": "https://localhost:8080/"
        },
        "id": "N8uPrwRlgqUV",
        "outputId": "6ef8a026-9342-4942-afa6-4f3e5143c637"
      },
      "execution_count": 40,
      "outputs": [
        {
          "output_type": "stream",
          "name": "stdout",
          "text": [
            "orders\n",
            "order_details\n",
            "pizzas\n",
            "pizza_types\n"
          ]
        }
      ]
    },
    {
      "cell_type": "markdown",
      "source": [
        "## Look tables"
      ],
      "metadata": {
        "id": "cubnQ9FAfhr9"
      }
    },
    {
      "cell_type": "code",
      "source": [
        "%sql pragma table_info(orders)"
      ],
      "metadata": {
        "colab": {
          "base_uri": "https://localhost:8080/",
          "height": 137
        },
        "id": "-8zVu7b3J9OT",
        "outputId": "30a58d45-c390-49af-dda4-dd0a37d0fe2e"
      },
      "execution_count": 41,
      "outputs": [
        {
          "output_type": "stream",
          "name": "stdout",
          "text": [
            " * sqlite:///pizzasales.db\n",
            "Done.\n"
          ]
        },
        {
          "output_type": "execute_result",
          "data": {
            "text/plain": [
              "[(0, 'order_id', 'INTEGER', 0, None, 0),\n",
              " (1, 'date', 'TEXT', 0, None, 0),\n",
              " (2, 'time', 'TEXT', 0, None, 0)]"
            ],
            "text/html": [
              "<table>\n",
              "    <thead>\n",
              "        <tr>\n",
              "            <th>cid</th>\n",
              "            <th>name</th>\n",
              "            <th>type</th>\n",
              "            <th>notnull</th>\n",
              "            <th>dflt_value</th>\n",
              "            <th>pk</th>\n",
              "        </tr>\n",
              "    </thead>\n",
              "    <tbody>\n",
              "        <tr>\n",
              "            <td>0</td>\n",
              "            <td>order_id</td>\n",
              "            <td>INTEGER</td>\n",
              "            <td>0</td>\n",
              "            <td>None</td>\n",
              "            <td>0</td>\n",
              "        </tr>\n",
              "        <tr>\n",
              "            <td>1</td>\n",
              "            <td>date</td>\n",
              "            <td>TEXT</td>\n",
              "            <td>0</td>\n",
              "            <td>None</td>\n",
              "            <td>0</td>\n",
              "        </tr>\n",
              "        <tr>\n",
              "            <td>2</td>\n",
              "            <td>time</td>\n",
              "            <td>TEXT</td>\n",
              "            <td>0</td>\n",
              "            <td>None</td>\n",
              "            <td>0</td>\n",
              "        </tr>\n",
              "    </tbody>\n",
              "</table>"
            ]
          },
          "metadata": {},
          "execution_count": 41
        }
      ]
    },
    {
      "cell_type": "code",
      "source": [
        "%sql pragma table_info(order_details)"
      ],
      "metadata": {
        "colab": {
          "base_uri": "https://localhost:8080/",
          "height": 158
        },
        "id": "ASh6au-ZcD0P",
        "outputId": "6b482527-d13e-4384-a6a4-f584e740586b"
      },
      "execution_count": 42,
      "outputs": [
        {
          "output_type": "stream",
          "name": "stdout",
          "text": [
            " * sqlite:///pizzasales.db\n",
            "Done.\n"
          ]
        },
        {
          "output_type": "execute_result",
          "data": {
            "text/plain": [
              "[(0, 'order_details_id', 'INTEGER', 0, None, 0),\n",
              " (1, 'order_id', 'INTEGER', 0, None, 0),\n",
              " (2, 'pizza_id', 'TEXT', 0, None, 0),\n",
              " (3, 'quantity', 'INTEGER', 0, None, 0)]"
            ],
            "text/html": [
              "<table>\n",
              "    <thead>\n",
              "        <tr>\n",
              "            <th>cid</th>\n",
              "            <th>name</th>\n",
              "            <th>type</th>\n",
              "            <th>notnull</th>\n",
              "            <th>dflt_value</th>\n",
              "            <th>pk</th>\n",
              "        </tr>\n",
              "    </thead>\n",
              "    <tbody>\n",
              "        <tr>\n",
              "            <td>0</td>\n",
              "            <td>order_details_id</td>\n",
              "            <td>INTEGER</td>\n",
              "            <td>0</td>\n",
              "            <td>None</td>\n",
              "            <td>0</td>\n",
              "        </tr>\n",
              "        <tr>\n",
              "            <td>1</td>\n",
              "            <td>order_id</td>\n",
              "            <td>INTEGER</td>\n",
              "            <td>0</td>\n",
              "            <td>None</td>\n",
              "            <td>0</td>\n",
              "        </tr>\n",
              "        <tr>\n",
              "            <td>2</td>\n",
              "            <td>pizza_id</td>\n",
              "            <td>TEXT</td>\n",
              "            <td>0</td>\n",
              "            <td>None</td>\n",
              "            <td>0</td>\n",
              "        </tr>\n",
              "        <tr>\n",
              "            <td>3</td>\n",
              "            <td>quantity</td>\n",
              "            <td>INTEGER</td>\n",
              "            <td>0</td>\n",
              "            <td>None</td>\n",
              "            <td>0</td>\n",
              "        </tr>\n",
              "    </tbody>\n",
              "</table>"
            ]
          },
          "metadata": {},
          "execution_count": 42
        }
      ]
    },
    {
      "cell_type": "code",
      "source": [
        "%sql pragma table_info(pizza_types)"
      ],
      "metadata": {
        "colab": {
          "base_uri": "https://localhost:8080/",
          "height": 158
        },
        "id": "7ZAap3zvcIRv",
        "outputId": "8b97bd43-32d8-4dbe-a2b3-b3df2770fc0b"
      },
      "execution_count": 43,
      "outputs": [
        {
          "output_type": "stream",
          "name": "stdout",
          "text": [
            " * sqlite:///pizzasales.db\n",
            "Done.\n"
          ]
        },
        {
          "output_type": "execute_result",
          "data": {
            "text/plain": [
              "[(0, 'pizza_type_id', 'TEXT', 0, None, 0),\n",
              " (1, 'name', 'TEXT', 0, None, 0),\n",
              " (2, 'category', 'TEXT', 0, None, 0),\n",
              " (3, 'ingredients', 'TEXT', 0, None, 0)]"
            ],
            "text/html": [
              "<table>\n",
              "    <thead>\n",
              "        <tr>\n",
              "            <th>cid</th>\n",
              "            <th>name</th>\n",
              "            <th>type</th>\n",
              "            <th>notnull</th>\n",
              "            <th>dflt_value</th>\n",
              "            <th>pk</th>\n",
              "        </tr>\n",
              "    </thead>\n",
              "    <tbody>\n",
              "        <tr>\n",
              "            <td>0</td>\n",
              "            <td>pizza_type_id</td>\n",
              "            <td>TEXT</td>\n",
              "            <td>0</td>\n",
              "            <td>None</td>\n",
              "            <td>0</td>\n",
              "        </tr>\n",
              "        <tr>\n",
              "            <td>1</td>\n",
              "            <td>name</td>\n",
              "            <td>TEXT</td>\n",
              "            <td>0</td>\n",
              "            <td>None</td>\n",
              "            <td>0</td>\n",
              "        </tr>\n",
              "        <tr>\n",
              "            <td>2</td>\n",
              "            <td>category</td>\n",
              "            <td>TEXT</td>\n",
              "            <td>0</td>\n",
              "            <td>None</td>\n",
              "            <td>0</td>\n",
              "        </tr>\n",
              "        <tr>\n",
              "            <td>3</td>\n",
              "            <td>ingredients</td>\n",
              "            <td>TEXT</td>\n",
              "            <td>0</td>\n",
              "            <td>None</td>\n",
              "            <td>0</td>\n",
              "        </tr>\n",
              "    </tbody>\n",
              "</table>"
            ]
          },
          "metadata": {},
          "execution_count": 43
        }
      ]
    },
    {
      "cell_type": "code",
      "source": [
        "%sql pragma table_info(pizzas)"
      ],
      "metadata": {
        "colab": {
          "base_uri": "https://localhost:8080/",
          "height": 158
        },
        "id": "YlQKyybQcQgf",
        "outputId": "9fdc05ad-2eb2-4dca-8bca-ebabfb8f76f4"
      },
      "execution_count": 44,
      "outputs": [
        {
          "output_type": "stream",
          "name": "stdout",
          "text": [
            " * sqlite:///pizzasales.db\n",
            "Done.\n"
          ]
        },
        {
          "output_type": "execute_result",
          "data": {
            "text/plain": [
              "[(0, 'pizza_id', 'TEXT', 0, None, 0),\n",
              " (1, 'pizza_type_id', 'TEXT', 0, None, 0),\n",
              " (2, 'size', 'TEXT', 0, None, 0),\n",
              " (3, 'price', 'REAL', 0, None, 0)]"
            ],
            "text/html": [
              "<table>\n",
              "    <thead>\n",
              "        <tr>\n",
              "            <th>cid</th>\n",
              "            <th>name</th>\n",
              "            <th>type</th>\n",
              "            <th>notnull</th>\n",
              "            <th>dflt_value</th>\n",
              "            <th>pk</th>\n",
              "        </tr>\n",
              "    </thead>\n",
              "    <tbody>\n",
              "        <tr>\n",
              "            <td>0</td>\n",
              "            <td>pizza_id</td>\n",
              "            <td>TEXT</td>\n",
              "            <td>0</td>\n",
              "            <td>None</td>\n",
              "            <td>0</td>\n",
              "        </tr>\n",
              "        <tr>\n",
              "            <td>1</td>\n",
              "            <td>pizza_type_id</td>\n",
              "            <td>TEXT</td>\n",
              "            <td>0</td>\n",
              "            <td>None</td>\n",
              "            <td>0</td>\n",
              "        </tr>\n",
              "        <tr>\n",
              "            <td>2</td>\n",
              "            <td>size</td>\n",
              "            <td>TEXT</td>\n",
              "            <td>0</td>\n",
              "            <td>None</td>\n",
              "            <td>0</td>\n",
              "        </tr>\n",
              "        <tr>\n",
              "            <td>3</td>\n",
              "            <td>price</td>\n",
              "            <td>REAL</td>\n",
              "            <td>0</td>\n",
              "            <td>None</td>\n",
              "            <td>0</td>\n",
              "        </tr>\n",
              "    </tbody>\n",
              "</table>"
            ]
          },
          "metadata": {},
          "execution_count": 44
        }
      ]
    },
    {
      "cell_type": "markdown",
      "source": [
        "# Orders and Order_details tables"
      ],
      "metadata": {
        "id": "mfZzCBGyoAgy"
      }
    },
    {
      "cell_type": "code",
      "source": [
        "%sql SELECT * FROM orders LIMIT 5"
      ],
      "metadata": {
        "colab": {
          "base_uri": "https://localhost:8080/",
          "height": 179
        },
        "id": "qWunQ5Iph4pH",
        "outputId": "94ff02ba-798c-4864-b729-fe6820622d38"
      },
      "execution_count": 46,
      "outputs": [
        {
          "output_type": "stream",
          "name": "stdout",
          "text": [
            " * sqlite:///pizzasales.db\n",
            "Done.\n"
          ]
        },
        {
          "output_type": "execute_result",
          "data": {
            "text/plain": [
              "[(1, '2015-01-01', '11:38:36'),\n",
              " (2, '2015-01-01', '11:57:40'),\n",
              " (3, '2015-01-01', '12:12:28'),\n",
              " (4, '2015-01-01', '12:16:31'),\n",
              " (5, '2015-01-01', '12:21:30')]"
            ],
            "text/html": [
              "<table>\n",
              "    <thead>\n",
              "        <tr>\n",
              "            <th>order_id</th>\n",
              "            <th>date</th>\n",
              "            <th>time</th>\n",
              "        </tr>\n",
              "    </thead>\n",
              "    <tbody>\n",
              "        <tr>\n",
              "            <td>1</td>\n",
              "            <td>2015-01-01</td>\n",
              "            <td>11:38:36</td>\n",
              "        </tr>\n",
              "        <tr>\n",
              "            <td>2</td>\n",
              "            <td>2015-01-01</td>\n",
              "            <td>11:57:40</td>\n",
              "        </tr>\n",
              "        <tr>\n",
              "            <td>3</td>\n",
              "            <td>2015-01-01</td>\n",
              "            <td>12:12:28</td>\n",
              "        </tr>\n",
              "        <tr>\n",
              "            <td>4</td>\n",
              "            <td>2015-01-01</td>\n",
              "            <td>12:16:31</td>\n",
              "        </tr>\n",
              "        <tr>\n",
              "            <td>5</td>\n",
              "            <td>2015-01-01</td>\n",
              "            <td>12:21:30</td>\n",
              "        </tr>\n",
              "    </tbody>\n",
              "</table>"
            ]
          },
          "metadata": {},
          "execution_count": 46
        }
      ]
    },
    {
      "cell_type": "code",
      "source": [
        "%sql SELECT strftime('%d',date) FROM orders LIMIT 5"
      ],
      "metadata": {
        "colab": {
          "base_uri": "https://localhost:8080/",
          "height": 179
        },
        "id": "7WRI3SD9iDOe",
        "outputId": "5192281e-ccb7-403e-cf2d-a18ca52f6f97",
        "collapsed": true
      },
      "execution_count": 48,
      "outputs": [
        {
          "output_type": "stream",
          "name": "stdout",
          "text": [
            " * sqlite:///pizzasales.db\n",
            "Done.\n"
          ]
        },
        {
          "output_type": "execute_result",
          "data": {
            "text/plain": [
              "[('01',), ('01',), ('01',), ('01',), ('01',)]"
            ],
            "text/html": [
              "<table>\n",
              "    <thead>\n",
              "        <tr>\n",
              "            <th>strftime(&#x27;%d&#x27;,date)</th>\n",
              "        </tr>\n",
              "    </thead>\n",
              "    <tbody>\n",
              "        <tr>\n",
              "            <td>01</td>\n",
              "        </tr>\n",
              "        <tr>\n",
              "            <td>01</td>\n",
              "        </tr>\n",
              "        <tr>\n",
              "            <td>01</td>\n",
              "        </tr>\n",
              "        <tr>\n",
              "            <td>01</td>\n",
              "        </tr>\n",
              "        <tr>\n",
              "            <td>01</td>\n",
              "        </tr>\n",
              "    </tbody>\n",
              "</table>"
            ]
          },
          "metadata": {},
          "execution_count": 48
        }
      ]
    },
    {
      "cell_type": "markdown",
      "source": [
        "# Pizzas tables"
      ],
      "metadata": {
        "id": "LqREnZMHoamZ"
      }
    },
    {
      "cell_type": "markdown",
      "source": [
        "## Create a view"
      ],
      "metadata": {
        "id": "GDGKmf9SlKxJ"
      }
    },
    {
      "cell_type": "code",
      "source": [
        "CREATE VIEW pizzas_full AS\n",
        "SELECT\n",
        "  pizza_id,\n",
        "  price,\n",
        "  size,\n",
        "  pt.name,\n",
        "  pt.category\n",
        "FROM pizzas\n",
        "INNER JOIN pizza_types pt ON pt.pizza_type_id = pizzas.pizza_type_id;"
      ],
      "metadata": {
        "id": "vZwKlNHolUsn"
      },
      "execution_count": null,
      "outputs": []
    },
    {
      "cell_type": "markdown",
      "source": [
        "## CTEs"
      ],
      "metadata": {
        "id": "vCQYf7LElbyY"
      }
    },
    {
      "cell_type": "code",
      "source": [
        "# Create view table for pizzas and pizza types\n",
        "%%sql\n",
        "WITH pizzasfull AS (\n",
        "  SELECT\n",
        "    pizza_id,\n",
        "    price,\n",
        "    size,\n",
        "    pt.name,\n",
        "    pt.category\n",
        "  FROM pizzas\n",
        "  INNER JOIN pizza_types pt ON pt.pizza_type_id = pizzas.pizza_type_id\n",
        "  ),\n",
        "  ordersfull AS (\n",
        "    SELECT\n",
        "      od.order_id,\n",
        "      date,\n",
        "      strftime('%H', time) AS hour,\n",
        "      od.pizza_id,\n",
        "      od.quantity\n",
        "    FROM orders\n",
        "    INNER JOIN order_details od ON od.order_id = orders.order_id\n",
        "  )\n",
        "SELECT order_id, date, hour, quantity, pizzasfull.price, pizzasfull.size, pizzasfull.name, pizzasfull.category\n",
        "FROM ordersfull\n",
        "LEFT JOIN pizzasfull USING(pizza_id)\n",
        "LIMIT 5\n",
        ";"
      ],
      "metadata": {
        "colab": {
          "base_uri": "https://localhost:8080/",
          "height": 179
        },
        "id": "mX4rE_uDnljW",
        "outputId": "4e90182a-d7a3-4a0e-9bb8-ba2d618674ee",
        "collapsed": true
      },
      "execution_count": 55,
      "outputs": [
        {
          "output_type": "stream",
          "name": "stdout",
          "text": [
            " * sqlite:///pizzasales.db\n",
            "Done.\n"
          ]
        },
        {
          "output_type": "execute_result",
          "data": {
            "text/plain": [
              "[(1, '2015-01-01', '11', 1, 13.25, 'M', 'The Hawaiian Pizza', 'Classic'),\n",
              " (2, '2015-01-01', '11', 1, 16.0, 'M', 'The Classic Deluxe Pizza', 'Classic'),\n",
              " (2, '2015-01-01', '11', 1, 18.5, 'L', 'The Five Cheese Pizza', 'Veggie'),\n",
              " (2, '2015-01-01', '11', 1, 20.75, 'L', 'The Italian Supreme Pizza', 'Supreme'),\n",
              " (2, '2015-01-01', '11', 1, 16.0, 'M', 'The Mexicana Pizza', 'Veggie')]"
            ],
            "text/html": [
              "<table>\n",
              "    <thead>\n",
              "        <tr>\n",
              "            <th>order_id</th>\n",
              "            <th>date</th>\n",
              "            <th>hour</th>\n",
              "            <th>quantity</th>\n",
              "            <th>price</th>\n",
              "            <th>size</th>\n",
              "            <th>name</th>\n",
              "            <th>category</th>\n",
              "        </tr>\n",
              "    </thead>\n",
              "    <tbody>\n",
              "        <tr>\n",
              "            <td>1</td>\n",
              "            <td>2015-01-01</td>\n",
              "            <td>11</td>\n",
              "            <td>1</td>\n",
              "            <td>13.25</td>\n",
              "            <td>M</td>\n",
              "            <td>The Hawaiian Pizza</td>\n",
              "            <td>Classic</td>\n",
              "        </tr>\n",
              "        <tr>\n",
              "            <td>2</td>\n",
              "            <td>2015-01-01</td>\n",
              "            <td>11</td>\n",
              "            <td>1</td>\n",
              "            <td>16.0</td>\n",
              "            <td>M</td>\n",
              "            <td>The Classic Deluxe Pizza</td>\n",
              "            <td>Classic</td>\n",
              "        </tr>\n",
              "        <tr>\n",
              "            <td>2</td>\n",
              "            <td>2015-01-01</td>\n",
              "            <td>11</td>\n",
              "            <td>1</td>\n",
              "            <td>18.5</td>\n",
              "            <td>L</td>\n",
              "            <td>The Five Cheese Pizza</td>\n",
              "            <td>Veggie</td>\n",
              "        </tr>\n",
              "        <tr>\n",
              "            <td>2</td>\n",
              "            <td>2015-01-01</td>\n",
              "            <td>11</td>\n",
              "            <td>1</td>\n",
              "            <td>20.75</td>\n",
              "            <td>L</td>\n",
              "            <td>The Italian Supreme Pizza</td>\n",
              "            <td>Supreme</td>\n",
              "        </tr>\n",
              "        <tr>\n",
              "            <td>2</td>\n",
              "            <td>2015-01-01</td>\n",
              "            <td>11</td>\n",
              "            <td>1</td>\n",
              "            <td>16.0</td>\n",
              "            <td>M</td>\n",
              "            <td>The Mexicana Pizza</td>\n",
              "            <td>Veggie</td>\n",
              "        </tr>\n",
              "    </tbody>\n",
              "</table>"
            ]
          },
          "metadata": {},
          "execution_count": 55
        }
      ]
    },
    {
      "cell_type": "markdown",
      "source": [
        "## **Questions**\n",
        "\n",
        "### 1 How many customers do we have each day? Are there any peak hours?"
      ],
      "metadata": {
        "id": "4LPEIL7FlN2v"
      }
    },
    {
      "cell_type": "code",
      "source": [
        "# How many customers do we have each day?\n",
        "%sql SELECT ROUND(AVG(customers),0) FROM (SELECT COUNT(order_id) AS customers FROM orders GROUP BY date);"
      ],
      "metadata": {
        "colab": {
          "base_uri": "https://localhost:8080/",
          "height": 95
        },
        "id": "hNTY7XL5n6mX",
        "outputId": "d9529ba1-5cc7-401c-c9ef-aa3d66ed3b35"
      },
      "execution_count": 77,
      "outputs": [
        {
          "output_type": "stream",
          "name": "stdout",
          "text": [
            " * sqlite:///pizzasales.db\n",
            "Done.\n"
          ]
        },
        {
          "output_type": "execute_result",
          "data": {
            "text/plain": [
              "[(60.0,)]"
            ],
            "text/html": [
              "<table>\n",
              "    <thead>\n",
              "        <tr>\n",
              "            <th>ROUND(AVG(customers),0)</th>\n",
              "        </tr>\n",
              "    </thead>\n",
              "    <tbody>\n",
              "        <tr>\n",
              "            <td>60.0</td>\n",
              "        </tr>\n",
              "    </tbody>\n",
              "</table>"
            ]
          },
          "metadata": {},
          "execution_count": 77
        }
      ]
    },
    {
      "cell_type": "code",
      "source": [
        "# Are there any peak hours?\n",
        "%%sql\n",
        "SELECT\n",
        "    date,\n",
        "    strftime('%H', time) AS hour,\n",
        "    SUM(od.quantity) AS total_qty\n",
        "  FROM orders\n",
        "  INNER JOIN order_details od ON od.order_id = orders.order_id\n",
        "  GROUP BY date, hour\n",
        "  ORDER BY total_qty DESC LIMIT 10;"
      ],
      "metadata": {
        "colab": {
          "base_uri": "https://localhost:8080/",
          "height": 284
        },
        "id": "Kxk3lL-GsRVe",
        "outputId": "52a817e9-d790-4bef-eca3-dd26d1928ea5"
      },
      "execution_count": 72,
      "outputs": [
        {
          "output_type": "stream",
          "name": "stdout",
          "text": [
            " * sqlite:///pizzasales.db\n",
            "Done.\n"
          ]
        },
        {
          "output_type": "execute_result",
          "data": {
            "text/plain": [
              "[('2015-10-15', '13', 64),\n",
              " ('2015-01-08', '12', 49),\n",
              " ('2015-06-04', '12', 49),\n",
              " ('2015-07-30', '13', 48),\n",
              " ('2015-02-03', '12', 47),\n",
              " ('2015-12-14', '12', 47),\n",
              " ('2015-06-01', '12', 46),\n",
              " ('2015-11-18', '12', 46),\n",
              " ('2015-10-01', '12', 45),\n",
              " ('2015-08-14', '13', 44)]"
            ],
            "text/html": [
              "<table>\n",
              "    <thead>\n",
              "        <tr>\n",
              "            <th>date</th>\n",
              "            <th>hour</th>\n",
              "            <th>total_qty</th>\n",
              "        </tr>\n",
              "    </thead>\n",
              "    <tbody>\n",
              "        <tr>\n",
              "            <td>2015-10-15</td>\n",
              "            <td>13</td>\n",
              "            <td>64</td>\n",
              "        </tr>\n",
              "        <tr>\n",
              "            <td>2015-01-08</td>\n",
              "            <td>12</td>\n",
              "            <td>49</td>\n",
              "        </tr>\n",
              "        <tr>\n",
              "            <td>2015-06-04</td>\n",
              "            <td>12</td>\n",
              "            <td>49</td>\n",
              "        </tr>\n",
              "        <tr>\n",
              "            <td>2015-07-30</td>\n",
              "            <td>13</td>\n",
              "            <td>48</td>\n",
              "        </tr>\n",
              "        <tr>\n",
              "            <td>2015-02-03</td>\n",
              "            <td>12</td>\n",
              "            <td>47</td>\n",
              "        </tr>\n",
              "        <tr>\n",
              "            <td>2015-12-14</td>\n",
              "            <td>12</td>\n",
              "            <td>47</td>\n",
              "        </tr>\n",
              "        <tr>\n",
              "            <td>2015-06-01</td>\n",
              "            <td>12</td>\n",
              "            <td>46</td>\n",
              "        </tr>\n",
              "        <tr>\n",
              "            <td>2015-11-18</td>\n",
              "            <td>12</td>\n",
              "            <td>46</td>\n",
              "        </tr>\n",
              "        <tr>\n",
              "            <td>2015-10-01</td>\n",
              "            <td>12</td>\n",
              "            <td>45</td>\n",
              "        </tr>\n",
              "        <tr>\n",
              "            <td>2015-08-14</td>\n",
              "            <td>13</td>\n",
              "            <td>44</td>\n",
              "        </tr>\n",
              "    </tbody>\n",
              "</table>"
            ]
          },
          "metadata": {},
          "execution_count": 72
        }
      ]
    },
    {
      "cell_type": "markdown",
      "source": [
        "### 2. How many pizzas are typically in an order? Do we have any bestsellers?"
      ],
      "metadata": {
        "id": "yaykNWLUx09O"
      }
    },
    {
      "cell_type": "code",
      "source": [
        "# Average pizzas per order\n",
        "%%sql\n",
        "WITH fullorders AS (\n",
        "  SELECT\n",
        "      od.order_id,\n",
        "      SUM(od.quantity) AS total_qty\n",
        "  FROM orders\n",
        "  INNER JOIN order_details od ON od.order_id = orders.order_id\n",
        "  GROUP BY od.order_id\n",
        ")\n",
        "SELECT ROUND(AVG(total_qty),2) as 'AVG Quantity' FROM fullorders;"
      ],
      "metadata": {
        "colab": {
          "base_uri": "https://localhost:8080/",
          "height": 95
        },
        "id": "dENMM23zAvPN",
        "outputId": "8a352e5c-2589-4c2b-eec4-c1ea4ca0c2be"
      },
      "execution_count": 65,
      "outputs": [
        {
          "output_type": "stream",
          "name": "stdout",
          "text": [
            " * sqlite:///pizzasales.db\n",
            "Done.\n"
          ]
        },
        {
          "output_type": "execute_result",
          "data": {
            "text/plain": [
              "[(2.32,)]"
            ],
            "text/html": [
              "<table>\n",
              "    <thead>\n",
              "        <tr>\n",
              "            <th>AVG Quantity</th>\n",
              "        </tr>\n",
              "    </thead>\n",
              "    <tbody>\n",
              "        <tr>\n",
              "            <td>2.32</td>\n",
              "        </tr>\n",
              "    </tbody>\n",
              "</table>"
            ]
          },
          "metadata": {},
          "execution_count": 65
        }
      ]
    },
    {
      "cell_type": "code",
      "source": [
        "# Bestseller pizza\n",
        "%%sql\n",
        "WITH fullpizzas AS (\n",
        "  SELECT\n",
        "    pizza_id,\n",
        "    pt.name as name\n",
        "  FROM pizzas\n",
        "  INNER JOIN pizza_types pt ON pt.pizza_type_id = pizzas.pizza_type_id\n",
        ")\n",
        "SELECT\n",
        "    fp.name,\n",
        "    SUM(quantity) AS total_qty\n",
        "  FROM order_details od\n",
        "  INNER JOIN fullpizzas fp ON fp.pizza_id = od.pizza_id\n",
        "  GROUP BY fp.name\n",
        "  ORDER BY total_qty DESC LIMIT 3;\n"
      ],
      "metadata": {
        "colab": {
          "base_uri": "https://localhost:8080/",
          "height": 137
        },
        "id": "O9gKma1bvC-5",
        "outputId": "055a9818-8786-4ca6-e93e-069c8ab81def"
      },
      "execution_count": 97,
      "outputs": [
        {
          "output_type": "stream",
          "name": "stdout",
          "text": [
            " * sqlite:///pizzasales.db\n",
            "Done.\n"
          ]
        },
        {
          "output_type": "execute_result",
          "data": {
            "text/plain": [
              "[('The Classic Deluxe Pizza', 2453),\n",
              " ('The Barbecue Chicken Pizza', 2432),\n",
              " ('The Hawaiian Pizza', 2422)]"
            ],
            "text/html": [
              "<table>\n",
              "    <thead>\n",
              "        <tr>\n",
              "            <th>name</th>\n",
              "            <th>total_qty</th>\n",
              "        </tr>\n",
              "    </thead>\n",
              "    <tbody>\n",
              "        <tr>\n",
              "            <td>The Classic Deluxe Pizza</td>\n",
              "            <td>2453</td>\n",
              "        </tr>\n",
              "        <tr>\n",
              "            <td>The Barbecue Chicken Pizza</td>\n",
              "            <td>2432</td>\n",
              "        </tr>\n",
              "        <tr>\n",
              "            <td>The Hawaiian Pizza</td>\n",
              "            <td>2422</td>\n",
              "        </tr>\n",
              "    </tbody>\n",
              "</table>"
            ]
          },
          "metadata": {},
          "execution_count": 97
        }
      ]
    },
    {
      "cell_type": "markdown",
      "source": [
        "### 3. How much money did we make this year? Can we indentify any seasonality in the sales?"
      ],
      "metadata": {
        "id": "14SCcdG_m12V"
      }
    },
    {
      "cell_type": "code",
      "source": [
        "# How much money did we make this year?\n",
        "%%sql\n",
        "WITH subtotals AS (\n",
        "  SELECT\n",
        "    od.pizza_id,\n",
        "    (od.quantity * p.price) AS subtotal\n",
        "\n",
        "  FROM order_details od, pizzas p\n",
        "  WHERE od.pizza_id = p.pizza_id\n",
        "  )\n",
        "  SELECT ROUND(SUM(subtotal),2) AS year_revenue FROM subtotals;"
      ],
      "metadata": {
        "colab": {
          "base_uri": "https://localhost:8080/",
          "height": 95
        },
        "id": "dVj9g82MxZJf",
        "outputId": "ab76b0f5-981a-4ed7-f655-fd78256f0427"
      },
      "execution_count": 99,
      "outputs": [
        {
          "output_type": "stream",
          "name": "stdout",
          "text": [
            " * sqlite:///pizzasales.db\n",
            "Done.\n"
          ]
        },
        {
          "output_type": "execute_result",
          "data": {
            "text/plain": [
              "[(817860.05,)]"
            ],
            "text/html": [
              "<table>\n",
              "    <thead>\n",
              "        <tr>\n",
              "            <th>year_revenue</th>\n",
              "        </tr>\n",
              "    </thead>\n",
              "    <tbody>\n",
              "        <tr>\n",
              "            <td>817860.05</td>\n",
              "        </tr>\n",
              "    </tbody>\n",
              "</table>"
            ]
          },
          "metadata": {},
          "execution_count": 99
        }
      ]
    },
    {
      "cell_type": "code",
      "source": [
        "# Can we indentify any seasonality in the sales?\n",
        "%%sql\n",
        "WITH sales_per_month AS (\n",
        "  SELECT strftime('%m', date) as month, COUNT(order_id) as total_orders\n",
        "  FROM orders\n",
        "  GROUP BY month\n",
        ")\n",
        "SELECT CASE month\n",
        "          WHEN '01' THEN 'January'\n",
        "          WHEN '02' THEN 'February'\n",
        "          WHEN '03' THEN 'March'\n",
        "          WHEN '04' THEN 'April'\n",
        "          WHEN '05' THEN 'May'\n",
        "          WHEN '06' THEN 'June'\n",
        "          WHEN '07' THEN 'July'\n",
        "          WHEN '08' THEN 'August'\n",
        "          WHEN '09' THEN 'September'\n",
        "          WHEN '10' THEN 'October'\n",
        "          WHEN '11' THEN 'November'\n",
        "           ELSE 'December'\n",
        "       END AS month,\n",
        "       total_orders\n",
        "FROM sales_per_month\n",
        "ORDER BY total_orders DESC;"
      ],
      "metadata": {
        "colab": {
          "base_uri": "https://localhost:8080/",
          "height": 326
        },
        "id": "4qiz4jFMt_Z7",
        "outputId": "84df9def-e971-43da-b141-e36fe8c6d080"
      },
      "execution_count": 107,
      "outputs": [
        {
          "output_type": "stream",
          "name": "stdout",
          "text": [
            " * sqlite:///pizzasales.db\n",
            "Done.\n"
          ]
        },
        {
          "output_type": "execute_result",
          "data": {
            "text/plain": [
              "[('July', 1935),\n",
              " ('May', 1853),\n",
              " ('January', 1845),\n",
              " ('August', 1841),\n",
              " ('March', 1840),\n",
              " ('April', 1799),\n",
              " ('November', 1792),\n",
              " ('June', 1773),\n",
              " ('February', 1685),\n",
              " ('December', 1680),\n",
              " ('September', 1661),\n",
              " ('October', 1646)]"
            ],
            "text/html": [
              "<table>\n",
              "    <thead>\n",
              "        <tr>\n",
              "            <th>month</th>\n",
              "            <th>total_orders</th>\n",
              "        </tr>\n",
              "    </thead>\n",
              "    <tbody>\n",
              "        <tr>\n",
              "            <td>July</td>\n",
              "            <td>1935</td>\n",
              "        </tr>\n",
              "        <tr>\n",
              "            <td>May</td>\n",
              "            <td>1853</td>\n",
              "        </tr>\n",
              "        <tr>\n",
              "            <td>January</td>\n",
              "            <td>1845</td>\n",
              "        </tr>\n",
              "        <tr>\n",
              "            <td>August</td>\n",
              "            <td>1841</td>\n",
              "        </tr>\n",
              "        <tr>\n",
              "            <td>March</td>\n",
              "            <td>1840</td>\n",
              "        </tr>\n",
              "        <tr>\n",
              "            <td>April</td>\n",
              "            <td>1799</td>\n",
              "        </tr>\n",
              "        <tr>\n",
              "            <td>November</td>\n",
              "            <td>1792</td>\n",
              "        </tr>\n",
              "        <tr>\n",
              "            <td>June</td>\n",
              "            <td>1773</td>\n",
              "        </tr>\n",
              "        <tr>\n",
              "            <td>February</td>\n",
              "            <td>1685</td>\n",
              "        </tr>\n",
              "        <tr>\n",
              "            <td>December</td>\n",
              "            <td>1680</td>\n",
              "        </tr>\n",
              "        <tr>\n",
              "            <td>September</td>\n",
              "            <td>1661</td>\n",
              "        </tr>\n",
              "        <tr>\n",
              "            <td>October</td>\n",
              "            <td>1646</td>\n",
              "        </tr>\n",
              "    </tbody>\n",
              "</table>"
            ]
          },
          "metadata": {},
          "execution_count": 107
        }
      ]
    },
    {
      "cell_type": "markdown",
      "source": [
        "### 4. Are there any pizzas we should take of the menu, or any promotions we could leverage?"
      ],
      "metadata": {
        "id": "PIMPtXC3m5Ft"
      }
    },
    {
      "cell_type": "code",
      "source": [
        "# worstseller pizza\n",
        "%%sql\n",
        "WITH fullpizzas AS (\n",
        "  SELECT\n",
        "    pizza_id,\n",
        "    pt.name as name\n",
        "  FROM pizzas\n",
        "  INNER JOIN pizza_types pt ON pt.pizza_type_id = pizzas.pizza_type_id\n",
        ")\n",
        "SELECT\n",
        "    fp.name,\n",
        "    SUM(quantity) AS total_qty\n",
        "  FROM order_details od\n",
        "  INNER JOIN fullpizzas fp ON fp.pizza_id = od.pizza_id\n",
        "  GROUP BY fp.name\n",
        "  ORDER BY total_qty LIMIT 3;"
      ],
      "metadata": {
        "colab": {
          "base_uri": "https://localhost:8080/",
          "height": 137
        },
        "id": "UjWWQrGM3tyE",
        "outputId": "e3c8371c-9e09-49a9-887c-460fc69fa445"
      },
      "execution_count": 108,
      "outputs": [
        {
          "output_type": "stream",
          "name": "stdout",
          "text": [
            " * sqlite:///pizzasales.db\n",
            "Done.\n"
          ]
        },
        {
          "output_type": "execute_result",
          "data": {
            "text/plain": [
              "[('The Brie Carre Pizza', 490),\n",
              " ('The Mediterranean Pizza', 934),\n",
              " ('The Calabrese Pizza', 937)]"
            ],
            "text/html": [
              "<table>\n",
              "    <thead>\n",
              "        <tr>\n",
              "            <th>name</th>\n",
              "            <th>total_qty</th>\n",
              "        </tr>\n",
              "    </thead>\n",
              "    <tbody>\n",
              "        <tr>\n",
              "            <td>The Brie Carre Pizza</td>\n",
              "            <td>490</td>\n",
              "        </tr>\n",
              "        <tr>\n",
              "            <td>The Mediterranean Pizza</td>\n",
              "            <td>934</td>\n",
              "        </tr>\n",
              "        <tr>\n",
              "            <td>The Calabrese Pizza</td>\n",
              "            <td>937</td>\n",
              "        </tr>\n",
              "    </tbody>\n",
              "</table>"
            ]
          },
          "metadata": {},
          "execution_count": 108
        }
      ]
    },
    {
      "cell_type": "code",
      "source": [
        "#"
      ],
      "metadata": {
        "id": "oivt4hel7ixp"
      },
      "execution_count": 79,
      "outputs": []
    },
    {
      "cell_type": "code",
      "source": [],
      "metadata": {
        "id": "_Aav_x_fAHJY"
      },
      "execution_count": null,
      "outputs": []
    }
  ]
}